{
 "cells": [
  {
   "cell_type": "code",
   "execution_count": 1,
   "metadata": {},
   "outputs": [
    {
     "name": "stdout",
     "output_type": "stream",
     "text": [
      "Bayesian_Inference.ipynb\t   images\t      Untitled.ipynb\r\n",
      "Bayesian_Inference_solution.ipynb  smsspamcollection\r\n"
     ]
    }
   ],
   "source": [
    "!ls"
   ]
  },
  {
   "cell_type": "code",
   "execution_count": 4,
   "metadata": {},
   "outputs": [
    {
     "name": "stdout",
     "output_type": "stream",
     "text": [
      "Bayesian_Inference.ipynb\r\n",
      "Bayesian_Inference_solution.ipynb\r\n",
      "Untitled.ipynb\r\n",
      "images/\r\n",
      "images/tfidf.png\r\n",
      "images/dqnb.png\r\n",
      "images/bayes_formula.png\r\n",
      "images/countvectorizer.png\r\n",
      "images/naivebayes.png\r\n",
      "smsspamcollection/\r\n",
      "smsspamcollection/readme\r\n",
      "smsspamcollection/SMSSpamCollection\r\n"
     ]
    }
   ],
   "source": [
    "!tar cvfz allfiles.tar.gz *"
   ]
  },
  {
   "cell_type": "code",
   "execution_count": null,
   "metadata": {},
   "outputs": [],
   "source": []
  }
 ],
 "metadata": {
  "kernelspec": {
   "display_name": "Python 3",
   "language": "python",
   "name": "python3"
  },
  "language_info": {
   "codemirror_mode": {
    "name": "ipython",
    "version": 3
   },
   "file_extension": ".py",
   "mimetype": "text/x-python",
   "name": "python",
   "nbconvert_exporter": "python",
   "pygments_lexer": "ipython3",
   "version": "3.6.3"
  }
 },
 "nbformat": 4,
 "nbformat_minor": 2
}
